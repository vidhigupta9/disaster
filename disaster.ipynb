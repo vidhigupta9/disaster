{
  "nbformat": 4,
  "nbformat_minor": 0,
  "metadata": {
    "colab": {
      "name": "disaster.ipynb",
      "provenance": [],
      "toc_visible": true,
      "include_colab_link": true
    },
    "kernelspec": {
      "name": "python3",
      "display_name": "Python 3"
    },
    "language_info": {
      "name": "python"
    }
  },
  "cells": [
    {
      "cell_type": "markdown",
      "metadata": {
        "id": "view-in-github",
        "colab_type": "text"
      },
      "source": [
        "<a href=\"https://colab.research.google.com/github/vidhigupta9/disaster/blob/main/disaster.ipynb\" target=\"_parent\"><img src=\"https://colab.research.google.com/assets/colab-badge.svg\" alt=\"Open In Colab\"/></a>"
      ]
    },
    {
      "cell_type": "code",
      "execution_count": null,
      "metadata": {
        "id": "IqXrMGeQ2X5U"
      },
      "outputs": [],
      "source": [
        "import pandas as pd\n",
        "import numpy as np\n",
        "import warnings\n",
        "warnings.filterwarnings(\"ignore\")"
      ]
    },
    {
      "cell_type": "code",
      "source": [
        "# Visualization\n",
        "import matplotlib.pyplot as plt\n",
        "import seaborn as sns\n",
        "import plotly"
      ],
      "metadata": {
        "id": "tFJWakx_25il"
      },
      "execution_count": null,
      "outputs": []
    },
    {
      "cell_type": "code",
      "source": [
        "from google.colab import drive\n",
        "drive.mount('/content/drive/MyDrive/disaster-data')"
      ],
      "metadata": {
        "colab": {
          "base_uri": "https://localhost:8080/",
          "height": 328
        },
        "id": "2qdyKPvcR2jH",
        "outputId": "47ed9b56-4fd9-4131-c2b3-f63045fc4a10"
      },
      "execution_count": null,
      "outputs": [
        {
          "output_type": "error",
          "ename": "MessageError",
          "evalue": "ignored",
          "traceback": [
            "\u001b[0;31m---------------------------------------------------------------------------\u001b[0m",
            "\u001b[0;31mMessageError\u001b[0m                              Traceback (most recent call last)",
            "\u001b[0;32m<ipython-input-3-df3d10f097ec>\u001b[0m in \u001b[0;36m<module>\u001b[0;34m()\u001b[0m\n\u001b[1;32m      1\u001b[0m \u001b[0;32mfrom\u001b[0m \u001b[0mgoogle\u001b[0m\u001b[0;34m.\u001b[0m\u001b[0mcolab\u001b[0m \u001b[0;32mimport\u001b[0m \u001b[0mdrive\u001b[0m\u001b[0;34m\u001b[0m\u001b[0;34m\u001b[0m\u001b[0m\n\u001b[0;32m----> 2\u001b[0;31m \u001b[0mdrive\u001b[0m\u001b[0;34m.\u001b[0m\u001b[0mmount\u001b[0m\u001b[0;34m(\u001b[0m\u001b[0;34m'/content/drive/MyDrive/disaster-data'\u001b[0m\u001b[0;34m)\u001b[0m\u001b[0;34m\u001b[0m\u001b[0;34m\u001b[0m\u001b[0m\n\u001b[0m",
            "\u001b[0;32m/usr/local/lib/python3.7/dist-packages/google/colab/drive.py\u001b[0m in \u001b[0;36mmount\u001b[0;34m(mountpoint, force_remount, timeout_ms, use_metadata_server)\u001b[0m\n\u001b[1;32m    111\u001b[0m       \u001b[0mtimeout_ms\u001b[0m\u001b[0;34m=\u001b[0m\u001b[0mtimeout_ms\u001b[0m\u001b[0;34m,\u001b[0m\u001b[0;34m\u001b[0m\u001b[0;34m\u001b[0m\u001b[0m\n\u001b[1;32m    112\u001b[0m       \u001b[0muse_metadata_server\u001b[0m\u001b[0;34m=\u001b[0m\u001b[0muse_metadata_server\u001b[0m\u001b[0;34m,\u001b[0m\u001b[0;34m\u001b[0m\u001b[0;34m\u001b[0m\u001b[0m\n\u001b[0;32m--> 113\u001b[0;31m       ephemeral=ephemeral)\n\u001b[0m\u001b[1;32m    114\u001b[0m \u001b[0;34m\u001b[0m\u001b[0m\n\u001b[1;32m    115\u001b[0m \u001b[0;34m\u001b[0m\u001b[0m\n",
            "\u001b[0;32m/usr/local/lib/python3.7/dist-packages/google/colab/drive.py\u001b[0m in \u001b[0;36m_mount\u001b[0;34m(mountpoint, force_remount, timeout_ms, use_metadata_server, ephemeral)\u001b[0m\n\u001b[1;32m    134\u001b[0m   \u001b[0;32mif\u001b[0m \u001b[0mephemeral\u001b[0m\u001b[0;34m:\u001b[0m\u001b[0;34m\u001b[0m\u001b[0;34m\u001b[0m\u001b[0m\n\u001b[1;32m    135\u001b[0m     _message.blocking_request(\n\u001b[0;32m--> 136\u001b[0;31m         'request_auth', request={'authType': 'dfs_ephemeral'}, timeout_sec=None)\n\u001b[0m\u001b[1;32m    137\u001b[0m \u001b[0;34m\u001b[0m\u001b[0m\n\u001b[1;32m    138\u001b[0m   \u001b[0mmountpoint\u001b[0m \u001b[0;34m=\u001b[0m \u001b[0m_os\u001b[0m\u001b[0;34m.\u001b[0m\u001b[0mpath\u001b[0m\u001b[0;34m.\u001b[0m\u001b[0mexpanduser\u001b[0m\u001b[0;34m(\u001b[0m\u001b[0mmountpoint\u001b[0m\u001b[0;34m)\u001b[0m\u001b[0;34m\u001b[0m\u001b[0;34m\u001b[0m\u001b[0m\n",
            "\u001b[0;32m/usr/local/lib/python3.7/dist-packages/google/colab/_message.py\u001b[0m in \u001b[0;36mblocking_request\u001b[0;34m(request_type, request, timeout_sec, parent)\u001b[0m\n\u001b[1;32m    173\u001b[0m   request_id = send_request(\n\u001b[1;32m    174\u001b[0m       request_type, request, parent=parent, expect_reply=True)\n\u001b[0;32m--> 175\u001b[0;31m   \u001b[0;32mreturn\u001b[0m \u001b[0mread_reply_from_input\u001b[0m\u001b[0;34m(\u001b[0m\u001b[0mrequest_id\u001b[0m\u001b[0;34m,\u001b[0m \u001b[0mtimeout_sec\u001b[0m\u001b[0;34m)\u001b[0m\u001b[0;34m\u001b[0m\u001b[0;34m\u001b[0m\u001b[0m\n\u001b[0m",
            "\u001b[0;32m/usr/local/lib/python3.7/dist-packages/google/colab/_message.py\u001b[0m in \u001b[0;36mread_reply_from_input\u001b[0;34m(message_id, timeout_sec)\u001b[0m\n\u001b[1;32m    104\u001b[0m         reply.get('colab_msg_id') == message_id):\n\u001b[1;32m    105\u001b[0m       \u001b[0;32mif\u001b[0m \u001b[0;34m'error'\u001b[0m \u001b[0;32min\u001b[0m \u001b[0mreply\u001b[0m\u001b[0;34m:\u001b[0m\u001b[0;34m\u001b[0m\u001b[0;34m\u001b[0m\u001b[0m\n\u001b[0;32m--> 106\u001b[0;31m         \u001b[0;32mraise\u001b[0m \u001b[0mMessageError\u001b[0m\u001b[0;34m(\u001b[0m\u001b[0mreply\u001b[0m\u001b[0;34m[\u001b[0m\u001b[0;34m'error'\u001b[0m\u001b[0;34m]\u001b[0m\u001b[0;34m)\u001b[0m\u001b[0;34m\u001b[0m\u001b[0;34m\u001b[0m\u001b[0m\n\u001b[0m\u001b[1;32m    107\u001b[0m       \u001b[0;32mreturn\u001b[0m \u001b[0mreply\u001b[0m\u001b[0;34m.\u001b[0m\u001b[0mget\u001b[0m\u001b[0;34m(\u001b[0m\u001b[0;34m'data'\u001b[0m\u001b[0;34m,\u001b[0m \u001b[0;32mNone\u001b[0m\u001b[0;34m)\u001b[0m\u001b[0;34m\u001b[0m\u001b[0;34m\u001b[0m\u001b[0m\n\u001b[1;32m    108\u001b[0m \u001b[0;34m\u001b[0m\u001b[0m\n",
            "\u001b[0;31mMessageError\u001b[0m: Error: credential propagation was unsuccessful"
          ]
        }
      ]
    },
    {
      "cell_type": "code",
      "source": [
        "from google.colab import files\n",
        "uploaded = files.upload()"
      ],
      "metadata": {
        "id": "72gFe94kTVon"
      },
      "execution_count": null,
      "outputs": []
    },
    {
      "cell_type": "markdown",
      "source": [
        "The CrisisMMD multimodal Twitter dataset consists of several thousands of manually annotated tweets and images collected during seven major natural disasters"
      ],
      "metadata": {
        "id": "jQGA5HPu44O-"
      }
    },
    {
      "cell_type": "markdown",
      "source": [
        "### Task 1: Informative vs Not informative\n",
        "   * Informative\n",
        "   * Not informative\n",
        "### Task 2: Humanitarian categories\n",
        "   * Affected individuals\n",
        "   * Infrastructure and utility damage\n",
        "   * Injured or dead people\n",
        "   * Missing or found people\n",
        "   * Rescue, volunteering or donation effort\n",
        "   * Vehicle damage\n",
        "   * Other relevant information\n",
        "   * Not humanitarian\n",
        "### Task 3: Damage severity assessment\n",
        "   * Severe damage\n",
        "   * Mild damage\n",
        "   * Little or no damage"
      ],
      "metadata": {
        "id": "BNqemhGO5ChA"
      }
    },
    {
      "cell_type": "code",
      "source": [
        "df = pd.read_csv(\"/content/california_wildfires_final_data.tsv\", sep='\\t')"
      ],
      "metadata": {
        "id": "jtXqmJrW3V63"
      },
      "execution_count": null,
      "outputs": []
    },
    {
      "cell_type": "code",
      "source": [
        "df.head() "
      ],
      "metadata": {
        "colab": {
          "base_uri": "https://localhost:8080/",
          "height": 722
        },
        "id": "7j5HAfKP3s-2",
        "outputId": "dafefef7-e114-41b4-8cfd-d931cf5a1e95"
      },
      "execution_count": null,
      "outputs": [
        {
          "output_type": "execute_result",
          "data": {
            "text/html": [
              "\n",
              "  <div id=\"df-65e8e638-5807-4c12-b31e-d258f2485bc3\">\n",
              "    <div class=\"colab-df-container\">\n",
              "      <div>\n",
              "<style scoped>\n",
              "    .dataframe tbody tr th:only-of-type {\n",
              "        vertical-align: middle;\n",
              "    }\n",
              "\n",
              "    .dataframe tbody tr th {\n",
              "        vertical-align: top;\n",
              "    }\n",
              "\n",
              "    .dataframe thead th {\n",
              "        text-align: right;\n",
              "    }\n",
              "</style>\n",
              "<table border=\"1\" class=\"dataframe\">\n",
              "  <thead>\n",
              "    <tr style=\"text-align: right;\">\n",
              "      <th></th>\n",
              "      <th>tweet_id</th>\n",
              "      <th>image_id</th>\n",
              "      <th>text_info</th>\n",
              "      <th>text_info_conf</th>\n",
              "      <th>image_info</th>\n",
              "      <th>image_info_conf</th>\n",
              "      <th>text_human</th>\n",
              "      <th>text_human_conf</th>\n",
              "      <th>image_human</th>\n",
              "      <th>image_human_conf</th>\n",
              "      <th>image_damage</th>\n",
              "      <th>image_damage_conf</th>\n",
              "      <th>tweet_text</th>\n",
              "      <th>image_url</th>\n",
              "      <th>image_path</th>\n",
              "    </tr>\n",
              "  </thead>\n",
              "  <tbody>\n",
              "    <tr>\n",
              "      <th>0</th>\n",
              "      <td>917791044158185473</td>\n",
              "      <td>917791044158185473_0</td>\n",
              "      <td>informative</td>\n",
              "      <td>1.0000</td>\n",
              "      <td>informative</td>\n",
              "      <td>0.6766</td>\n",
              "      <td>other_relevant_information</td>\n",
              "      <td>1.0000</td>\n",
              "      <td>other_relevant_information</td>\n",
              "      <td>0.6766</td>\n",
              "      <td>NaN</td>\n",
              "      <td>NaN</td>\n",
              "      <td>RT @Gizmodo: Wildfires raging through Northern...</td>\n",
              "      <td>http://pbs.twimg.com/media/DLyi_WYVYAApwNg.jpg</td>\n",
              "      <td>data_image/california_wildfires/10_10_2017/917...</td>\n",
              "    </tr>\n",
              "    <tr>\n",
              "      <th>1</th>\n",
              "      <td>917791130590183424</td>\n",
              "      <td>917791130590183424_0</td>\n",
              "      <td>informative</td>\n",
              "      <td>1.0000</td>\n",
              "      <td>informative</td>\n",
              "      <td>0.6667</td>\n",
              "      <td>infrastructure_and_utility_damage</td>\n",
              "      <td>1.0000</td>\n",
              "      <td>affected_individuals</td>\n",
              "      <td>0.6667</td>\n",
              "      <td>NaN</td>\n",
              "      <td>NaN</td>\n",
              "      <td>PHOTOS: Deadly wildfires rage in California ht...</td>\n",
              "      <td>http://pbs.twimg.com/media/DLymKm9UMAAu0qw.jpg</td>\n",
              "      <td>data_image/california_wildfires/10_10_2017/917...</td>\n",
              "    </tr>\n",
              "    <tr>\n",
              "      <th>2</th>\n",
              "      <td>917791291823591425</td>\n",
              "      <td>917791291823591425_0</td>\n",
              "      <td>informative</td>\n",
              "      <td>0.6813</td>\n",
              "      <td>informative</td>\n",
              "      <td>1.0000</td>\n",
              "      <td>other_relevant_information</td>\n",
              "      <td>0.6813</td>\n",
              "      <td>infrastructure_and_utility_damage</td>\n",
              "      <td>1.0000</td>\n",
              "      <td>severe_damage</td>\n",
              "      <td>1.0</td>\n",
              "      <td>RT @Cal_OES: PLS SHARE: Weâ€™re capturing wild...</td>\n",
              "      <td>http://pbs.twimg.com/media/DLudaaZV4AAjT7x.jpg</td>\n",
              "      <td>data_image/california_wildfires/10_10_2017/917...</td>\n",
              "    </tr>\n",
              "    <tr>\n",
              "      <th>3</th>\n",
              "      <td>917791291823591425</td>\n",
              "      <td>917791291823591425_1</td>\n",
              "      <td>informative</td>\n",
              "      <td>0.6813</td>\n",
              "      <td>not_informative</td>\n",
              "      <td>1.0000</td>\n",
              "      <td>other_relevant_information</td>\n",
              "      <td>0.6813</td>\n",
              "      <td>not_humanitarian</td>\n",
              "      <td>1.0000</td>\n",
              "      <td>NaN</td>\n",
              "      <td>NaN</td>\n",
              "      <td>RT @Cal_OES: PLS SHARE: Weâ€™re capturing wild...</td>\n",
              "      <td>http://pbs.twimg.com/media/DLudaZXUMAABAEZ.jpg</td>\n",
              "      <td>data_image/california_wildfires/10_10_2017/917...</td>\n",
              "    </tr>\n",
              "    <tr>\n",
              "      <th>4</th>\n",
              "      <td>917792092100988929</td>\n",
              "      <td>917792092100988929_0</td>\n",
              "      <td>informative</td>\n",
              "      <td>0.6727</td>\n",
              "      <td>informative</td>\n",
              "      <td>0.6612</td>\n",
              "      <td>other_relevant_information</td>\n",
              "      <td>0.6727</td>\n",
              "      <td>infrastructure_and_utility_damage</td>\n",
              "      <td>0.6612</td>\n",
              "      <td>severe_damage</td>\n",
              "      <td>1.0</td>\n",
              "      <td>RT @TIME: California's raging wildfires as you...</td>\n",
              "      <td>http://pbs.twimg.com/media/DLwNe-NXUAE0XCw.jpg</td>\n",
              "      <td>data_image/california_wildfires/10_10_2017/917...</td>\n",
              "    </tr>\n",
              "  </tbody>\n",
              "</table>\n",
              "</div>\n",
              "      <button class=\"colab-df-convert\" onclick=\"convertToInteractive('df-65e8e638-5807-4c12-b31e-d258f2485bc3')\"\n",
              "              title=\"Convert this dataframe to an interactive table.\"\n",
              "              style=\"display:none;\">\n",
              "        \n",
              "  <svg xmlns=\"http://www.w3.org/2000/svg\" height=\"24px\"viewBox=\"0 0 24 24\"\n",
              "       width=\"24px\">\n",
              "    <path d=\"M0 0h24v24H0V0z\" fill=\"none\"/>\n",
              "    <path d=\"M18.56 5.44l.94 2.06.94-2.06 2.06-.94-2.06-.94-.94-2.06-.94 2.06-2.06.94zm-11 1L8.5 8.5l.94-2.06 2.06-.94-2.06-.94L8.5 2.5l-.94 2.06-2.06.94zm10 10l.94 2.06.94-2.06 2.06-.94-2.06-.94-.94-2.06-.94 2.06-2.06.94z\"/><path d=\"M17.41 7.96l-1.37-1.37c-.4-.4-.92-.59-1.43-.59-.52 0-1.04.2-1.43.59L10.3 9.45l-7.72 7.72c-.78.78-.78 2.05 0 2.83L4 21.41c.39.39.9.59 1.41.59.51 0 1.02-.2 1.41-.59l7.78-7.78 2.81-2.81c.8-.78.8-2.07 0-2.86zM5.41 20L4 18.59l7.72-7.72 1.47 1.35L5.41 20z\"/>\n",
              "  </svg>\n",
              "      </button>\n",
              "      \n",
              "  <style>\n",
              "    .colab-df-container {\n",
              "      display:flex;\n",
              "      flex-wrap:wrap;\n",
              "      gap: 12px;\n",
              "    }\n",
              "\n",
              "    .colab-df-convert {\n",
              "      background-color: #E8F0FE;\n",
              "      border: none;\n",
              "      border-radius: 50%;\n",
              "      cursor: pointer;\n",
              "      display: none;\n",
              "      fill: #1967D2;\n",
              "      height: 32px;\n",
              "      padding: 0 0 0 0;\n",
              "      width: 32px;\n",
              "    }\n",
              "\n",
              "    .colab-df-convert:hover {\n",
              "      background-color: #E2EBFA;\n",
              "      box-shadow: 0px 1px 2px rgba(60, 64, 67, 0.3), 0px 1px 3px 1px rgba(60, 64, 67, 0.15);\n",
              "      fill: #174EA6;\n",
              "    }\n",
              "\n",
              "    [theme=dark] .colab-df-convert {\n",
              "      background-color: #3B4455;\n",
              "      fill: #D2E3FC;\n",
              "    }\n",
              "\n",
              "    [theme=dark] .colab-df-convert:hover {\n",
              "      background-color: #434B5C;\n",
              "      box-shadow: 0px 1px 3px 1px rgba(0, 0, 0, 0.15);\n",
              "      filter: drop-shadow(0px 1px 2px rgba(0, 0, 0, 0.3));\n",
              "      fill: #FFFFFF;\n",
              "    }\n",
              "  </style>\n",
              "\n",
              "      <script>\n",
              "        const buttonEl =\n",
              "          document.querySelector('#df-65e8e638-5807-4c12-b31e-d258f2485bc3 button.colab-df-convert');\n",
              "        buttonEl.style.display =\n",
              "          google.colab.kernel.accessAllowed ? 'block' : 'none';\n",
              "\n",
              "        async function convertToInteractive(key) {\n",
              "          const element = document.querySelector('#df-65e8e638-5807-4c12-b31e-d258f2485bc3');\n",
              "          const dataTable =\n",
              "            await google.colab.kernel.invokeFunction('convertToInteractive',\n",
              "                                                     [key], {});\n",
              "          if (!dataTable) return;\n",
              "\n",
              "          const docLinkHtml = 'Like what you see? Visit the ' +\n",
              "            '<a target=\"_blank\" href=https://colab.research.google.com/notebooks/data_table.ipynb>data table notebook</a>'\n",
              "            + ' to learn more about interactive tables.';\n",
              "          element.innerHTML = '';\n",
              "          dataTable['output_type'] = 'display_data';\n",
              "          await google.colab.output.renderOutput(dataTable, element);\n",
              "          const docLink = document.createElement('div');\n",
              "          docLink.innerHTML = docLinkHtml;\n",
              "          element.appendChild(docLink);\n",
              "        }\n",
              "      </script>\n",
              "    </div>\n",
              "  </div>\n",
              "  "
            ],
            "text/plain": [
              "             tweet_id  ...                                         image_path\n",
              "0  917791044158185473  ...  data_image/california_wildfires/10_10_2017/917...\n",
              "1  917791130590183424  ...  data_image/california_wildfires/10_10_2017/917...\n",
              "2  917791291823591425  ...  data_image/california_wildfires/10_10_2017/917...\n",
              "3  917791291823591425  ...  data_image/california_wildfires/10_10_2017/917...\n",
              "4  917792092100988929  ...  data_image/california_wildfires/10_10_2017/917...\n",
              "\n",
              "[5 rows x 15 columns]"
            ]
          },
          "metadata": {},
          "execution_count": 5
        }
      ]
    },
    {
      "cell_type": "markdown",
      "source": [
        "Each TSV file in this directory contains the following columns, separated by a tab:\n",
        "\n",
        "* tweet_id: corresponds to the actual tweet id from Twitter.\n",
        "* image_id: corresponds to a combination of a \"tweet_id\" and an index concatenated with an underscore. The integer indices represent different images associated with a given tweet.\n",
        "* text_info: corresponds to the informative label (i.e., informative, not_informative, dont_know_or_cant_judge) assigned to a given tweet text.\n",
        "* text_info_conf: corresponds to the confidence score associated with the \"text_info\" label of a given tweet text.\n",
        "* image_info: corresponds to the informative label (i.e., informative, not_informative, dont_know_or_cant_judge) assigned to a given tweet image.\n",
        "* image_info_conf: corresponds to the confidence score associated with the \"image_info\" label  of a given tweet image.\n",
        "* text_human: corresponds to the humanitarian label (see the list of humanitarian task labels above) assigned to a given tweet text.\n",
        "* text_human_conf: corresponds to the confidence score associated with the \"text_human\" label of a given tweet text.\n",
        "* image_human: corresponds to the humanitarian label (see the list of humanitarian task labels above) assigned to a given tweet image.\n",
        "* image_human_conf: corresponds to the confidence score associated with the \"image_human\" label of a given tweet image.\n",
        "* image_damage: corresponds to the damage severity assessment label (see the list of damage severity assessment task labels above) assigned to a given tweet image.\n",
        "* image_damage_conf: corresponds to the confidence score associated with the \"image_damage\" label of a given tweet image.\n",
        "* tweet_text: corresponds to the original text of a given tweet as downloaded from Twitter.\n",
        "* image_url: corresponds to the original image URL of a given tweet provided by Twitter.\n",
        "* image_path: corresponds to the relative path of an image inside the \"data_image\" folder for a given tweet.\n",
        "\n",
        "Note that there are empty (i.e., null) entries in the TSV files that simply indicate \"not applicable\" cases. For example, for a given pair of tweet text and image, if neither the text nor the image is labeled as informative (i.e., text_info != informative & image_info != informative), then the given tweet text/image pair is excluded from the rest of the annotation tasks (i.e., humanitarian and damage severity assessment tasks). Similarly, for the damage severity assessment task, we included only the subset of images that were labeled as \"infrastructure and utility damage\" and excluded all other images from the task. In such cases, we have empty (i.e., null) entries in our annotation tables.\n"
      ],
      "metadata": {
        "id": "zIXCHYhx4Kif"
      }
    },
    {
      "cell_type": "markdown",
      "source": [
        "# New section"
      ],
      "metadata": {
        "id": "rEjpY9eapYgH"
      }
    },
    {
      "cell_type": "code",
      "source": [
        "df.shape"
      ],
      "metadata": {
        "id": "D29KlRVN3tV4",
        "colab": {
          "base_uri": "https://localhost:8080/"
        },
        "outputId": "7b363061-9246-4b48-98f8-140d8598b753"
      },
      "execution_count": null,
      "outputs": [
        {
          "output_type": "execute_result",
          "data": {
            "text/plain": [
              "(1589, 15)"
            ]
          },
          "metadata": {},
          "execution_count": 6
        }
      ]
    },
    {
      "cell_type": "code",
      "source": [
        "df.shape"
      ],
      "metadata": {
        "id": "vptfr5jDA05A",
        "colab": {
          "base_uri": "https://localhost:8080/",
          "height": 165
        },
        "outputId": "569ed3e7-faa3-4173-dc16-d69d308c5483"
      },
      "execution_count": null,
      "outputs": [
        {
          "output_type": "error",
          "ename": "NameError",
          "evalue": "ignored",
          "traceback": [
            "\u001b[0;31m---------------------------------------------------------------------------\u001b[0m",
            "\u001b[0;31mNameError\u001b[0m                                 Traceback (most recent call last)",
            "\u001b[0;32m<ipython-input-1-633337079cd0>\u001b[0m in \u001b[0;36m<module>\u001b[0;34m()\u001b[0m\n\u001b[0;32m----> 1\u001b[0;31m \u001b[0mdf\u001b[0m\u001b[0;34m.\u001b[0m\u001b[0mshape\u001b[0m\u001b[0;34m\u001b[0m\u001b[0;34m\u001b[0m\u001b[0m\n\u001b[0m",
            "\u001b[0;31mNameError\u001b[0m: name 'df' is not defined"
          ]
        }
      ]
    }
  ]
}